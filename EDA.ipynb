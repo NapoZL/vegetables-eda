{
 "cells": [
  {
   "cell_type": "code",
   "execution_count": 130,
   "id": "22bb333c-15fa-4423-949f-bf81fb5f700e",
   "metadata": {},
   "outputs": [],
   "source": [
    "import pandas as pd\n",
    "import numpy as np"
   ]
  },
  {
   "cell_type": "code",
   "execution_count": 131,
   "id": "fff59414-a73e-4e27-80ac-1684d5f21015",
   "metadata": {},
   "outputs": [],
   "source": [
    "vdf = pd.read_csv('fruitvegprices-2017_2022.csv')"
   ]
  },
  {
   "cell_type": "code",
   "execution_count": 132,
   "id": "6c6b0dae-14f0-4c7c-955e-4c7e08e287c7",
   "metadata": {},
   "outputs": [
    {
     "data": {
      "text/html": [
       "<div>\n",
       "<style scoped>\n",
       "    .dataframe tbody tr th:only-of-type {\n",
       "        vertical-align: middle;\n",
       "    }\n",
       "\n",
       "    .dataframe tbody tr th {\n",
       "        vertical-align: top;\n",
       "    }\n",
       "\n",
       "    .dataframe thead th {\n",
       "        text-align: right;\n",
       "    }\n",
       "</style>\n",
       "<table border=\"1\" class=\"dataframe\">\n",
       "  <thead>\n",
       "    <tr style=\"text-align: right;\">\n",
       "      <th></th>\n",
       "      <th>category</th>\n",
       "      <th>item</th>\n",
       "      <th>variety</th>\n",
       "      <th>date</th>\n",
       "      <th>price</th>\n",
       "      <th>unit</th>\n",
       "    </tr>\n",
       "  </thead>\n",
       "  <tbody>\n",
       "    <tr>\n",
       "      <th>0</th>\n",
       "      <td>fruit</td>\n",
       "      <td>apples</td>\n",
       "      <td>bramleys_seedling</td>\n",
       "      <td>2022-03-11</td>\n",
       "      <td>2.05</td>\n",
       "      <td>kg</td>\n",
       "    </tr>\n",
       "    <tr>\n",
       "      <th>1</th>\n",
       "      <td>fruit</td>\n",
       "      <td>apples</td>\n",
       "      <td>coxs_orange_group</td>\n",
       "      <td>2022-03-11</td>\n",
       "      <td>1.22</td>\n",
       "      <td>kg</td>\n",
       "    </tr>\n",
       "    <tr>\n",
       "      <th>2</th>\n",
       "      <td>fruit</td>\n",
       "      <td>apples</td>\n",
       "      <td>egremont_russet</td>\n",
       "      <td>2022-03-11</td>\n",
       "      <td>1.14</td>\n",
       "      <td>kg</td>\n",
       "    </tr>\n",
       "    <tr>\n",
       "      <th>3</th>\n",
       "      <td>fruit</td>\n",
       "      <td>apples</td>\n",
       "      <td>braeburn</td>\n",
       "      <td>2022-03-11</td>\n",
       "      <td>1.05</td>\n",
       "      <td>kg</td>\n",
       "    </tr>\n",
       "    <tr>\n",
       "      <th>4</th>\n",
       "      <td>fruit</td>\n",
       "      <td>apples</td>\n",
       "      <td>gala</td>\n",
       "      <td>2022-03-11</td>\n",
       "      <td>1.03</td>\n",
       "      <td>kg</td>\n",
       "    </tr>\n",
       "    <tr>\n",
       "      <th>...</th>\n",
       "      <td>...</td>\n",
       "      <td>...</td>\n",
       "      <td>...</td>\n",
       "      <td>...</td>\n",
       "      <td>...</td>\n",
       "      <td>...</td>\n",
       "    </tr>\n",
       "    <tr>\n",
       "      <th>9642</th>\n",
       "      <td>cut_flowers</td>\n",
       "      <td>alstromeria</td>\n",
       "      <td>indoor</td>\n",
       "      <td>2017-11-03</td>\n",
       "      <td>0.27</td>\n",
       "      <td>stem</td>\n",
       "    </tr>\n",
       "    <tr>\n",
       "      <th>9643</th>\n",
       "      <td>cut_flowers</td>\n",
       "      <td>chrysanthemum</td>\n",
       "      <td>indoor_spray</td>\n",
       "      <td>2017-11-03</td>\n",
       "      <td>0.22</td>\n",
       "      <td>stem</td>\n",
       "    </tr>\n",
       "    <tr>\n",
       "      <th>9644</th>\n",
       "      <td>cut_flowers</td>\n",
       "      <td>lillies</td>\n",
       "      <td>oriental</td>\n",
       "      <td>2017-11-03</td>\n",
       "      <td>0.70</td>\n",
       "      <td>stem</td>\n",
       "    </tr>\n",
       "    <tr>\n",
       "      <th>9645</th>\n",
       "      <td>cut_flowers</td>\n",
       "      <td>narcissus</td>\n",
       "      <td>indoor</td>\n",
       "      <td>2017-11-03</td>\n",
       "      <td>0.06</td>\n",
       "      <td>stem</td>\n",
       "    </tr>\n",
       "    <tr>\n",
       "      <th>9646</th>\n",
       "      <td>pot_plants</td>\n",
       "      <td>cyclamen</td>\n",
       "      <td>13_cm</td>\n",
       "      <td>2017-11-03</td>\n",
       "      <td>0.75</td>\n",
       "      <td>unit</td>\n",
       "    </tr>\n",
       "  </tbody>\n",
       "</table>\n",
       "<p>9647 rows × 6 columns</p>\n",
       "</div>"
      ],
      "text/plain": [
       "         category           item            variety        date  price  unit\n",
       "0           fruit         apples  bramleys_seedling  2022-03-11   2.05    kg\n",
       "1           fruit         apples  coxs_orange_group  2022-03-11   1.22    kg\n",
       "2           fruit         apples    egremont_russet  2022-03-11   1.14    kg\n",
       "3           fruit         apples           braeburn  2022-03-11   1.05    kg\n",
       "4           fruit         apples               gala  2022-03-11   1.03    kg\n",
       "...           ...            ...                ...         ...    ...   ...\n",
       "9642  cut_flowers    alstromeria             indoor  2017-11-03   0.27  stem\n",
       "9643  cut_flowers  chrysanthemum       indoor_spray  2017-11-03   0.22  stem\n",
       "9644  cut_flowers        lillies           oriental  2017-11-03   0.70  stem\n",
       "9645  cut_flowers      narcissus             indoor  2017-11-03   0.06  stem\n",
       "9646   pot_plants       cyclamen              13_cm  2017-11-03   0.75  unit\n",
       "\n",
       "[9647 rows x 6 columns]"
      ]
     },
     "execution_count": 132,
     "metadata": {},
     "output_type": "execute_result"
    }
   ],
   "source": [
    "vdf"
   ]
  },
  {
   "cell_type": "markdown",
   "id": "dc42ff16-f208-4782-b9b8-944a59d16961",
   "metadata": {},
   "source": [
    "## Ejercicios"
   ]
  },
  {
   "cell_type": "markdown",
   "id": "5f974629-c2d2-46ad-86e2-8ed3366fc74b",
   "metadata": {},
   "source": [
    "### Ejercicio uno: realice un analisis de valores nulos\n",
    "\n",
    "En caso de existir valores nulos elimine esos registros"
   ]
  },
  {
   "cell_type": "code",
   "execution_count": 93,
   "id": "9b4e5f2f-3477-4cec-afab-51e40ef0b2eb",
   "metadata": {},
   "outputs": [],
   "source": [
    "porcentaje_nulos = ((vdf.isnull().sum() / len(vdf))*100).sort_values(ascending = False)"
   ]
  },
  {
   "cell_type": "code",
   "execution_count": 94,
   "id": "bbe4439e-aa3a-4b6e-9472-4bb1731f040f",
   "metadata": {},
   "outputs": [
    {
     "data": {
      "text/plain": [
       "category    0.0\n",
       "item        0.0\n",
       "variety     0.0\n",
       "date        0.0\n",
       "price       0.0\n",
       "unit        0.0\n",
       "dtype: float64"
      ]
     },
     "execution_count": 94,
     "metadata": {},
     "output_type": "execute_result"
    }
   ],
   "source": [
    "porcentaje_nulos"
   ]
  },
  {
   "cell_type": "markdown",
   "id": "e7f040b1-ac0a-4f2a-9627-29d37e35459a",
   "metadata": {},
   "source": [
    "Nuestro análisis muestra que no existen valores nulos en nuestro dataset"
   ]
  },
  {
   "cell_type": "markdown",
   "id": "29ce0f74-b6a8-40cb-90d9-a2032bb2eacc",
   "metadata": {},
   "source": [
    "### Ejercicio dos: Por categoria, cuantos distintos items hay y cuantos distintos variety hay?\n",
    "\n",
    "El resultado debe de tener el siguiente formato de presentacion:"
   ]
  },
  {
   "cell_type": "code",
   "execution_count": 26,
   "id": "80dfe19b-71f2-4107-b639-07d91ab50a91",
   "metadata": {},
   "outputs": [
    {
     "data": {
      "text/html": [
       "<div>\n",
       "<style scoped>\n",
       "    .dataframe tbody tr th:only-of-type {\n",
       "        vertical-align: middle;\n",
       "    }\n",
       "\n",
       "    .dataframe tbody tr th {\n",
       "        vertical-align: top;\n",
       "    }\n",
       "\n",
       "    .dataframe thead th {\n",
       "        text-align: right;\n",
       "    }\n",
       "</style>\n",
       "<table border=\"1\" class=\"dataframe\">\n",
       "  <thead>\n",
       "    <tr style=\"text-align: right;\">\n",
       "      <th></th>\n",
       "      <th>category</th>\n",
       "      <th>item_count</th>\n",
       "      <th>variety_Count</th>\n",
       "    </tr>\n",
       "  </thead>\n",
       "  <tbody>\n",
       "    <tr>\n",
       "      <th>0</th>\n",
       "      <td>cut_flowers</td>\n",
       "      <td>9</td>\n",
       "      <td>10</td>\n",
       "    </tr>\n",
       "    <tr>\n",
       "      <th>1</th>\n",
       "      <td>fruit</td>\n",
       "      <td>10</td>\n",
       "      <td>21</td>\n",
       "    </tr>\n",
       "  </tbody>\n",
       "</table>\n",
       "</div>"
      ],
      "text/plain": [
       "      category  item_count  variety_Count\n",
       "0  cut_flowers           9             10\n",
       "1        fruit          10             21"
      ]
     },
     "execution_count": 26,
     "metadata": {},
     "output_type": "execute_result"
    }
   ],
   "source": [
    "pd.DataFrame({\n",
    "    \"category\" : ['cut_flowers','fruit']\n",
    "    , \"item_count\" : [9,10]\n",
    "    , \"variety_Count\" : [10,21]\n",
    "})"
   ]
  },
  {
   "cell_type": "markdown",
   "id": "59e6f7f6-5a1d-4e24-bbbf-49c71a71e329",
   "metadata": {},
   "source": [
    "Como nota en un mismo dataframe mostramos todo lo solicitado, usted debe de mostrar todas las categorias"
   ]
  },
  {
   "cell_type": "code",
   "execution_count": 95,
   "id": "1edda033-ecff-47da-a53a-113b619f15a8",
   "metadata": {},
   "outputs": [
    {
     "data": {
      "text/plain": [
       "Index(['category', 'item', 'variety', 'date', 'price', 'unit'], dtype='object')"
      ]
     },
     "execution_count": 95,
     "metadata": {},
     "output_type": "execute_result"
    }
   ],
   "source": [
    "vdf.columns"
   ]
  },
  {
   "cell_type": "code",
   "execution_count": 96,
   "id": "ee26d30c-0f3d-4075-8949-26f24da72576",
   "metadata": {},
   "outputs": [],
   "source": [
    "ej2 = vdf.loc[ : ,[\"category\",\"item\",\"variety\"]]"
   ]
  },
  {
   "cell_type": "code",
   "execution_count": 97,
   "id": "1d568b9f-f713-407f-9eaf-7435bbfae6f7",
   "metadata": {},
   "outputs": [],
   "source": [
    "ej2 = ej2.groupby(['category'],as_index=False).agg({'item' : ['count'], 'variety' : ['count']})"
   ]
  },
  {
   "cell_type": "code",
   "execution_count": 98,
   "id": "d290435f-87ee-4ffa-a95d-77c4fe9836ac",
   "metadata": {},
   "outputs": [],
   "source": [
    "ej2.columns = ej2.columns.droplevel(1)"
   ]
  },
  {
   "cell_type": "code",
   "execution_count": 99,
   "id": "696721fd-a026-4a34-ac39-a7d45f0e849a",
   "metadata": {},
   "outputs": [],
   "source": [
    "ej2.columns = ['category', 'item_count', 'variety_count']"
   ]
  },
  {
   "cell_type": "code",
   "execution_count": 100,
   "id": "44b67522-1b55-4a40-9c5e-53a839e9e3cf",
   "metadata": {},
   "outputs": [
    {
     "data": {
      "text/html": [
       "<div>\n",
       "<style scoped>\n",
       "    .dataframe tbody tr th:only-of-type {\n",
       "        vertical-align: middle;\n",
       "    }\n",
       "\n",
       "    .dataframe tbody tr th {\n",
       "        vertical-align: top;\n",
       "    }\n",
       "\n",
       "    .dataframe thead th {\n",
       "        text-align: right;\n",
       "    }\n",
       "</style>\n",
       "<table border=\"1\" class=\"dataframe\">\n",
       "  <thead>\n",
       "    <tr style=\"text-align: right;\">\n",
       "      <th></th>\n",
       "      <th>category</th>\n",
       "      <th>item_count</th>\n",
       "      <th>variety_count</th>\n",
       "    </tr>\n",
       "  </thead>\n",
       "  <tbody>\n",
       "    <tr>\n",
       "      <th>0</th>\n",
       "      <td>cut_flowers</td>\n",
       "      <td>342</td>\n",
       "      <td>342</td>\n",
       "    </tr>\n",
       "    <tr>\n",
       "      <th>1</th>\n",
       "      <td>fruit</td>\n",
       "      <td>1992</td>\n",
       "      <td>1992</td>\n",
       "    </tr>\n",
       "    <tr>\n",
       "      <th>2</th>\n",
       "      <td>pot_plants</td>\n",
       "      <td>49</td>\n",
       "      <td>49</td>\n",
       "    </tr>\n",
       "    <tr>\n",
       "      <th>3</th>\n",
       "      <td>vegetable</td>\n",
       "      <td>7264</td>\n",
       "      <td>7264</td>\n",
       "    </tr>\n",
       "  </tbody>\n",
       "</table>\n",
       "</div>"
      ],
      "text/plain": [
       "      category  item_count  variety_count\n",
       "0  cut_flowers         342            342\n",
       "1        fruit        1992           1992\n",
       "2   pot_plants          49             49\n",
       "3    vegetable        7264           7264"
      ]
     },
     "execution_count": 100,
     "metadata": {},
     "output_type": "execute_result"
    }
   ],
   "source": [
    "ej2"
   ]
  },
  {
   "cell_type": "markdown",
   "id": "74d700c1-351e-4e03-b319-4aabd9346cf3",
   "metadata": {},
   "source": [
    "### Ejercicio tres: Para la combinacion item, variety muestre el ultimo valor registrado por año.\n",
    "\n",
    "Ejemplo de como debe de mostrar su respuesta"
   ]
  },
  {
   "cell_type": "code",
   "execution_count": 27,
   "id": "4c36623d-c6e1-4d4d-b97c-ad03b5d2df3e",
   "metadata": {},
   "outputs": [
    {
     "data": {
      "text/html": [
       "<div>\n",
       "<style scoped>\n",
       "    .dataframe tbody tr th:only-of-type {\n",
       "        vertical-align: middle;\n",
       "    }\n",
       "\n",
       "    .dataframe tbody tr th {\n",
       "        vertical-align: top;\n",
       "    }\n",
       "\n",
       "    .dataframe thead th {\n",
       "        text-align: right;\n",
       "    }\n",
       "</style>\n",
       "<table border=\"1\" class=\"dataframe\">\n",
       "  <thead>\n",
       "    <tr style=\"text-align: right;\">\n",
       "      <th></th>\n",
       "      <th>item</th>\n",
       "      <th>variety</th>\n",
       "      <th>year</th>\n",
       "      <th>last_price</th>\n",
       "    </tr>\n",
       "  </thead>\n",
       "  <tbody>\n",
       "    <tr>\n",
       "      <th>0</th>\n",
       "      <td>Manzana</td>\n",
       "      <td>Gala</td>\n",
       "      <td>2022</td>\n",
       "      <td>3.2</td>\n",
       "    </tr>\n",
       "  </tbody>\n",
       "</table>\n",
       "</div>"
      ],
      "text/plain": [
       "      item variety  year  last_price\n",
       "0  Manzana    Gala  2022         3.2"
      ]
     },
     "execution_count": 27,
     "metadata": {},
     "output_type": "execute_result"
    }
   ],
   "source": [
    "pd.DataFrame({\n",
    "    \"item\" : ['Manzana']\n",
    "    , \"variety\" : ['Gala']\n",
    "    , \"year\" : [2022]\n",
    "    , \"last_price\" :  [3.2]\n",
    "})"
   ]
  },
  {
   "cell_type": "code",
   "execution_count": 394,
   "id": "5936e504-6cc9-469a-ada7-7e74659bbdb0",
   "metadata": {},
   "outputs": [],
   "source": [
    "vdf['date'] = pd.to_datetime(vdf['date'])"
   ]
  },
  {
   "cell_type": "code",
   "execution_count": 395,
   "id": "77f31bef-66a1-46f1-ba56-79d3dda98290",
   "metadata": {},
   "outputs": [],
   "source": [
    "vdf['year'] = vdf['date'].dt.year"
   ]
  },
  {
   "cell_type": "code",
   "execution_count": 396,
   "id": "36861bf2-797e-4ffc-b425-45685cd9cf61",
   "metadata": {},
   "outputs": [],
   "source": [
    "ej3 = vdf.loc[ : ,[\"item\",\"variety\",\"year\",\"price\"]]"
   ]
  },
  {
   "cell_type": "code",
   "execution_count": 397,
   "id": "d0bdc609-a2e8-4f90-8454-df318a1ac562",
   "metadata": {},
   "outputs": [],
   "source": [
    "ejj3 = ej3.sort_values([\"item\",\"variety\",\"year\"] , ascending = False )\n",
    "ejj3[\"rank\"] = ejj3.groupby([\"item\",\"variety\",\"year\"])[\"price\"].rank( method = 'first' , ascending = False )\n",
    "ejj3 = ejj3.loc[ ejj3[\"rank\"] == 1.0 , : ].reset_index(drop=True)"
   ]
  },
  {
   "cell_type": "code",
   "execution_count": 398,
   "id": "e6027b46-3a5d-427b-9aba-6dc5c0e9cbde",
   "metadata": {},
   "outputs": [],
   "source": [
    "ejj3.columns = ['item', 'variety', 'year', 'last_price', 'rank']"
   ]
  },
  {
   "cell_type": "code",
   "execution_count": 399,
   "id": "8a3e4dc2-4f56-465d-be51-5032730820c5",
   "metadata": {},
   "outputs": [
    {
     "data": {
      "text/html": [
       "<div>\n",
       "<style scoped>\n",
       "    .dataframe tbody tr th:only-of-type {\n",
       "        vertical-align: middle;\n",
       "    }\n",
       "\n",
       "    .dataframe tbody tr th {\n",
       "        vertical-align: top;\n",
       "    }\n",
       "\n",
       "    .dataframe thead th {\n",
       "        text-align: right;\n",
       "    }\n",
       "</style>\n",
       "<table border=\"1\" class=\"dataframe\">\n",
       "  <thead>\n",
       "    <tr style=\"text-align: right;\">\n",
       "      <th></th>\n",
       "      <th>item</th>\n",
       "      <th>variety</th>\n",
       "      <th>year</th>\n",
       "      <th>last_price</th>\n",
       "    </tr>\n",
       "  </thead>\n",
       "  <tbody>\n",
       "    <tr>\n",
       "      <th>0</th>\n",
       "      <td>watercress</td>\n",
       "      <td>pillow_packs</td>\n",
       "      <td>2019</td>\n",
       "      <td>10.16</td>\n",
       "    </tr>\n",
       "    <tr>\n",
       "      <th>1</th>\n",
       "      <td>watercress</td>\n",
       "      <td>pillow_packs</td>\n",
       "      <td>2018</td>\n",
       "      <td>12.68</td>\n",
       "    </tr>\n",
       "    <tr>\n",
       "      <th>2</th>\n",
       "      <td>watercress</td>\n",
       "      <td>pillow_packs</td>\n",
       "      <td>2017</td>\n",
       "      <td>11.44</td>\n",
       "    </tr>\n",
       "    <tr>\n",
       "      <th>3</th>\n",
       "      <td>turnip</td>\n",
       "      <td>turnip</td>\n",
       "      <td>2022</td>\n",
       "      <td>1.87</td>\n",
       "    </tr>\n",
       "    <tr>\n",
       "      <th>4</th>\n",
       "      <td>turnip</td>\n",
       "      <td>turnip</td>\n",
       "      <td>2021</td>\n",
       "      <td>1.83</td>\n",
       "    </tr>\n",
       "    <tr>\n",
       "      <th>...</th>\n",
       "      <td>...</td>\n",
       "      <td>...</td>\n",
       "      <td>...</td>\n",
       "      <td>...</td>\n",
       "    </tr>\n",
       "    <tr>\n",
       "      <th>392</th>\n",
       "      <td>apples</td>\n",
       "      <td>braeburn</td>\n",
       "      <td>2019</td>\n",
       "      <td>1.11</td>\n",
       "    </tr>\n",
       "    <tr>\n",
       "      <th>393</th>\n",
       "      <td>apples</td>\n",
       "      <td>braeburn</td>\n",
       "      <td>2018</td>\n",
       "      <td>1.05</td>\n",
       "    </tr>\n",
       "    <tr>\n",
       "      <th>394</th>\n",
       "      <td>apples</td>\n",
       "      <td>braeburn</td>\n",
       "      <td>2017</td>\n",
       "      <td>0.72</td>\n",
       "    </tr>\n",
       "    <tr>\n",
       "      <th>395</th>\n",
       "      <td>alstromeria</td>\n",
       "      <td>indoor</td>\n",
       "      <td>2018</td>\n",
       "      <td>0.34</td>\n",
       "    </tr>\n",
       "    <tr>\n",
       "      <th>396</th>\n",
       "      <td>alstromeria</td>\n",
       "      <td>indoor</td>\n",
       "      <td>2017</td>\n",
       "      <td>0.29</td>\n",
       "    </tr>\n",
       "  </tbody>\n",
       "</table>\n",
       "<p>397 rows × 4 columns</p>\n",
       "</div>"
      ],
      "text/plain": [
       "            item       variety  year  last_price\n",
       "0     watercress  pillow_packs  2019       10.16\n",
       "1     watercress  pillow_packs  2018       12.68\n",
       "2     watercress  pillow_packs  2017       11.44\n",
       "3         turnip        turnip  2022        1.87\n",
       "4         turnip        turnip  2021        1.83\n",
       "..           ...           ...   ...         ...\n",
       "392       apples      braeburn  2019        1.11\n",
       "393       apples      braeburn  2018        1.05\n",
       "394       apples      braeburn  2017        0.72\n",
       "395  alstromeria        indoor  2018        0.34\n",
       "396  alstromeria        indoor  2017        0.29\n",
       "\n",
       "[397 rows x 4 columns]"
      ]
     },
     "execution_count": 399,
     "metadata": {},
     "output_type": "execute_result"
    }
   ],
   "source": [
    "ejj3.drop(['rank'], axis=1)"
   ]
  },
  {
   "cell_type": "markdown",
   "id": "d6539b13-ca3b-4270-a707-5353ea763167",
   "metadata": {},
   "source": [
    "### Ejercicio cuatro: Segun el ejercicio tres, que tanto aumento o disminuyo el precio de cada item-variety \n",
    "\n",
    "Ejemplo de como se debe de mostrar su respuesta"
   ]
  },
  {
   "cell_type": "code",
   "execution_count": 28,
   "id": "88f4e8d0-09ba-4e99-9424-4a435c6d72fc",
   "metadata": {},
   "outputs": [
    {
     "data": {
      "text/html": [
       "<div>\n",
       "<style scoped>\n",
       "    .dataframe tbody tr th:only-of-type {\n",
       "        vertical-align: middle;\n",
       "    }\n",
       "\n",
       "    .dataframe tbody tr th {\n",
       "        vertical-align: top;\n",
       "    }\n",
       "\n",
       "    .dataframe thead th {\n",
       "        text-align: right;\n",
       "    }\n",
       "</style>\n",
       "<table border=\"1\" class=\"dataframe\">\n",
       "  <thead>\n",
       "    <tr style=\"text-align: right;\">\n",
       "      <th></th>\n",
       "      <th>item</th>\n",
       "      <th>variety</th>\n",
       "      <th>year</th>\n",
       "      <th>last_price</th>\n",
       "      <th>delta</th>\n",
       "    </tr>\n",
       "  </thead>\n",
       "  <tbody>\n",
       "    <tr>\n",
       "      <th>0</th>\n",
       "      <td>Manzana</td>\n",
       "      <td>Gala</td>\n",
       "      <td>2020</td>\n",
       "      <td>2.7</td>\n",
       "      <td>0.0</td>\n",
       "    </tr>\n",
       "    <tr>\n",
       "      <th>1</th>\n",
       "      <td>Manzana</td>\n",
       "      <td>Gala</td>\n",
       "      <td>2021</td>\n",
       "      <td>2.5</td>\n",
       "      <td>-0.2</td>\n",
       "    </tr>\n",
       "    <tr>\n",
       "      <th>2</th>\n",
       "      <td>Manzana</td>\n",
       "      <td>Gala</td>\n",
       "      <td>2022</td>\n",
       "      <td>3.2</td>\n",
       "      <td>0.7</td>\n",
       "    </tr>\n",
       "  </tbody>\n",
       "</table>\n",
       "</div>"
      ],
      "text/plain": [
       "      item variety  year  last_price  delta\n",
       "0  Manzana    Gala  2020         2.7    0.0\n",
       "1  Manzana    Gala  2021         2.5   -0.2\n",
       "2  Manzana    Gala  2022         3.2    0.7"
      ]
     },
     "execution_count": 28,
     "metadata": {},
     "output_type": "execute_result"
    }
   ],
   "source": [
    "pd.DataFrame({\n",
    "    \"item\" : ['Manzana','Manzana','Manzana']\n",
    "    , \"variety\" : ['Gala','Gala','Gala']\n",
    "    , \"year\" : [2020,2021,2022]\n",
    "    , \"last_price\" :  [2.7,2.5,3.2]\n",
    "    , \"delta\" : [0, (2.5-2.7), (3.2-2.5)]\n",
    "})"
   ]
  },
  {
   "cell_type": "markdown",
   "id": "1ae39539-fc9a-467c-a0cd-6ed45263a143",
   "metadata": {},
   "source": [
    "Segun nuestro ejemplo dummy para 2021 estuvo 0.2 centavos mas barato y en 2022 estuvo 0.7 centavos caro"
   ]
  },
  {
   "cell_type": "code",
   "execution_count": 447,
   "id": "ad63ccc0-c2f6-44ed-8d41-4788b4cf69a1",
   "metadata": {},
   "outputs": [],
   "source": [
    "ej4 = ejj3.loc[ : ,[\"item\",\"variety\",\"year\",\"last_price\"]]"
   ]
  },
  {
   "cell_type": "code",
   "execution_count": 448,
   "id": "f72966e8-00f2-465d-9320-e2baa6dac304",
   "metadata": {},
   "outputs": [],
   "source": [
    "ej4['PreciosPrevios'] = ej4.groupby([\"item\"], as_index=False)[\"last_price\"].shift(-1)"
   ]
  },
  {
   "cell_type": "code",
   "execution_count": 449,
   "id": "d9714003-eb32-4133-85d5-1e19c52bcf52",
   "metadata": {},
   "outputs": [],
   "source": [
    "ej4 = ej4.sort_values([\"item\",\"variety\",\"year\"])"
   ]
  },
  {
   "cell_type": "code",
   "execution_count": 450,
   "id": "c4581604-7e84-4658-adfa-c69367afd763",
   "metadata": {},
   "outputs": [],
   "source": [
    "ej4['delta'] = ej4[\"last_price\"] - ej4[\"PreciosPrevios\"]"
   ]
  },
  {
   "cell_type": "code",
   "execution_count": 453,
   "id": "9afa7824-e0d9-41f9-a680-f5a1a128d432",
   "metadata": {},
   "outputs": [],
   "source": [
    "ej4 = ej4.drop(['PreciosPrevios'] ,axis = 1)"
   ]
  },
  {
   "cell_type": "code",
   "execution_count": 454,
   "id": "79f1dbcc-aa0d-4a7b-a15c-59a7ef8636c2",
   "metadata": {},
   "outputs": [
    {
     "data": {
      "text/html": [
       "<div>\n",
       "<style scoped>\n",
       "    .dataframe tbody tr th:only-of-type {\n",
       "        vertical-align: middle;\n",
       "    }\n",
       "\n",
       "    .dataframe tbody tr th {\n",
       "        vertical-align: top;\n",
       "    }\n",
       "\n",
       "    .dataframe thead th {\n",
       "        text-align: right;\n",
       "    }\n",
       "</style>\n",
       "<table border=\"1\" class=\"dataframe\">\n",
       "  <thead>\n",
       "    <tr style=\"text-align: right;\">\n",
       "      <th></th>\n",
       "      <th>item</th>\n",
       "      <th>variety</th>\n",
       "      <th>year</th>\n",
       "      <th>last_price</th>\n",
       "      <th>delta</th>\n",
       "    </tr>\n",
       "  </thead>\n",
       "  <tbody>\n",
       "    <tr>\n",
       "      <th>396</th>\n",
       "      <td>alstromeria</td>\n",
       "      <td>indoor</td>\n",
       "      <td>2017</td>\n",
       "      <td>0.29</td>\n",
       "      <td>0.00</td>\n",
       "    </tr>\n",
       "    <tr>\n",
       "      <th>395</th>\n",
       "      <td>alstromeria</td>\n",
       "      <td>indoor</td>\n",
       "      <td>2018</td>\n",
       "      <td>0.34</td>\n",
       "      <td>0.05</td>\n",
       "    </tr>\n",
       "    <tr>\n",
       "      <th>394</th>\n",
       "      <td>apples</td>\n",
       "      <td>braeburn</td>\n",
       "      <td>2017</td>\n",
       "      <td>0.72</td>\n",
       "      <td>0.00</td>\n",
       "    </tr>\n",
       "    <tr>\n",
       "      <th>393</th>\n",
       "      <td>apples</td>\n",
       "      <td>braeburn</td>\n",
       "      <td>2018</td>\n",
       "      <td>1.05</td>\n",
       "      <td>0.33</td>\n",
       "    </tr>\n",
       "    <tr>\n",
       "      <th>392</th>\n",
       "      <td>apples</td>\n",
       "      <td>braeburn</td>\n",
       "      <td>2019</td>\n",
       "      <td>1.11</td>\n",
       "      <td>0.06</td>\n",
       "    </tr>\n",
       "    <tr>\n",
       "      <th>...</th>\n",
       "      <td>...</td>\n",
       "      <td>...</td>\n",
       "      <td>...</td>\n",
       "      <td>...</td>\n",
       "      <td>...</td>\n",
       "    </tr>\n",
       "    <tr>\n",
       "      <th>4</th>\n",
       "      <td>turnip</td>\n",
       "      <td>turnip</td>\n",
       "      <td>2021</td>\n",
       "      <td>1.83</td>\n",
       "      <td>-0.17</td>\n",
       "    </tr>\n",
       "    <tr>\n",
       "      <th>3</th>\n",
       "      <td>turnip</td>\n",
       "      <td>turnip</td>\n",
       "      <td>2022</td>\n",
       "      <td>1.87</td>\n",
       "      <td>0.04</td>\n",
       "    </tr>\n",
       "    <tr>\n",
       "      <th>2</th>\n",
       "      <td>watercress</td>\n",
       "      <td>pillow_packs</td>\n",
       "      <td>2017</td>\n",
       "      <td>11.44</td>\n",
       "      <td>0.00</td>\n",
       "    </tr>\n",
       "    <tr>\n",
       "      <th>1</th>\n",
       "      <td>watercress</td>\n",
       "      <td>pillow_packs</td>\n",
       "      <td>2018</td>\n",
       "      <td>12.68</td>\n",
       "      <td>1.24</td>\n",
       "    </tr>\n",
       "    <tr>\n",
       "      <th>0</th>\n",
       "      <td>watercress</td>\n",
       "      <td>pillow_packs</td>\n",
       "      <td>2019</td>\n",
       "      <td>10.16</td>\n",
       "      <td>-2.52</td>\n",
       "    </tr>\n",
       "  </tbody>\n",
       "</table>\n",
       "<p>397 rows × 5 columns</p>\n",
       "</div>"
      ],
      "text/plain": [
       "            item       variety  year  last_price  delta\n",
       "396  alstromeria        indoor  2017        0.29   0.00\n",
       "395  alstromeria        indoor  2018        0.34   0.05\n",
       "394       apples      braeburn  2017        0.72   0.00\n",
       "393       apples      braeburn  2018        1.05   0.33\n",
       "392       apples      braeburn  2019        1.11   0.06\n",
       "..           ...           ...   ...         ...    ...\n",
       "4         turnip        turnip  2021        1.83  -0.17\n",
       "3         turnip        turnip  2022        1.87   0.04\n",
       "2     watercress  pillow_packs  2017       11.44   0.00\n",
       "1     watercress  pillow_packs  2018       12.68   1.24\n",
       "0     watercress  pillow_packs  2019       10.16  -2.52\n",
       "\n",
       "[397 rows x 5 columns]"
      ]
     },
     "execution_count": 454,
     "metadata": {},
     "output_type": "execute_result"
    }
   ],
   "source": [
    "ej4.fillna(0)"
   ]
  },
  {
   "cell_type": "markdown",
   "id": "e7bee68e-b5fd-4fda-874c-619a3b44335d",
   "metadata": {},
   "source": [
    "### Ejercicio cinco: Cual es precio promedio por item, variety\n",
    "\n",
    "Ejemplo de como se debe de mostrar su respuesta"
   ]
  },
  {
   "cell_type": "code",
   "execution_count": 29,
   "id": "7041ea50-4254-42d2-bf10-3c9ccda9a81f",
   "metadata": {},
   "outputs": [
    {
     "data": {
      "text/html": [
       "<div>\n",
       "<style scoped>\n",
       "    .dataframe tbody tr th:only-of-type {\n",
       "        vertical-align: middle;\n",
       "    }\n",
       "\n",
       "    .dataframe tbody tr th {\n",
       "        vertical-align: top;\n",
       "    }\n",
       "\n",
       "    .dataframe thead th {\n",
       "        text-align: right;\n",
       "    }\n",
       "</style>\n",
       "<table border=\"1\" class=\"dataframe\">\n",
       "  <thead>\n",
       "    <tr style=\"text-align: right;\">\n",
       "      <th></th>\n",
       "      <th>item</th>\n",
       "      <th>variety</th>\n",
       "      <th>year-month</th>\n",
       "      <th>avg-price</th>\n",
       "    </tr>\n",
       "  </thead>\n",
       "  <tbody>\n",
       "    <tr>\n",
       "      <th>0</th>\n",
       "      <td>Manzana</td>\n",
       "      <td>Gala</td>\n",
       "      <td>2021-01</td>\n",
       "      <td>0.5</td>\n",
       "    </tr>\n",
       "  </tbody>\n",
       "</table>\n",
       "</div>"
      ],
      "text/plain": [
       "      item variety year-month  avg-price\n",
       "0  Manzana    Gala    2021-01        0.5"
      ]
     },
     "execution_count": 29,
     "metadata": {},
     "output_type": "execute_result"
    }
   ],
   "source": [
    "pd.DataFrame({\n",
    "    \"item\" : ['Manzana']\n",
    "    , \"variety\" : ['Gala']\n",
    "    , \"year-month\" : ['2021-01']   \n",
    "    , \"avg-price\" : [0.5]\n",
    "})"
   ]
  },
  {
   "cell_type": "code",
   "execution_count": 169,
   "id": "cd4676a2-d09b-46e1-874b-9e3fd838d51f",
   "metadata": {},
   "outputs": [],
   "source": [
    "vdf['month'] = vdf['date'].dt.month"
   ]
  },
  {
   "cell_type": "code",
   "execution_count": 203,
   "id": "0c0fccc2-045a-4712-ba7b-b3703b1f3fa2",
   "metadata": {},
   "outputs": [],
   "source": [
    "ej5 = vdf.loc[ : ,[\"item\",\"variety\",\"price\",\"year\",\"month\"]]"
   ]
  },
  {
   "cell_type": "code",
   "execution_count": 204,
   "id": "d16df15f-a840-438c-a8c1-589c53422fd0",
   "metadata": {},
   "outputs": [],
   "source": [
    "ej5['year']= ej5['year'].apply(str)"
   ]
  },
  {
   "cell_type": "code",
   "execution_count": 205,
   "id": "36814e47-bbfb-4545-a8af-68acd5f867c1",
   "metadata": {},
   "outputs": [],
   "source": [
    "ej5['month']= ej5['month'].apply(str)"
   ]
  },
  {
   "cell_type": "code",
   "execution_count": 206,
   "id": "af6ed2db-e1af-4a6e-b43b-6ca2893649cc",
   "metadata": {},
   "outputs": [],
   "source": [
    "ej5[\"year-month\"] = ej5[\"year\"] + \"-\" + ej5[\"month\"]"
   ]
  },
  {
   "cell_type": "code",
   "execution_count": 207,
   "id": "19cdfaa6-fbe1-4802-b24e-2e0c556da845",
   "metadata": {},
   "outputs": [],
   "source": [
    "ej5['year-moth'] = pd.to_datetime(ej5['year-month'])"
   ]
  },
  {
   "cell_type": "code",
   "execution_count": 208,
   "id": "a1047270-f4d7-44f6-a285-5a45df1877dc",
   "metadata": {},
   "outputs": [],
   "source": [
    "ej5 = ej5.groupby(['item','variety','year-month'],as_index=False).agg({'price': ['mean']})"
   ]
  },
  {
   "cell_type": "code",
   "execution_count": 247,
   "id": "bc269f69-e72d-4f50-a84c-d9d629664a26",
   "metadata": {},
   "outputs": [],
   "source": [
    "ej5.columns = ej5.columns.droplevel(1)"
   ]
  },
  {
   "cell_type": "code",
   "execution_count": 249,
   "id": "65ee1a1e-a28f-496c-9b23-786d29e78ef7",
   "metadata": {},
   "outputs": [],
   "source": [
    "ej5.columns = ['item', 'variety', 'year-month', 'avg_price']"
   ]
  },
  {
   "cell_type": "code",
   "execution_count": 250,
   "id": "f3162dd8-21be-4ad1-88ca-7e4a39b8f44c",
   "metadata": {},
   "outputs": [
    {
     "data": {
      "text/html": [
       "<div>\n",
       "<style scoped>\n",
       "    .dataframe tbody tr th:only-of-type {\n",
       "        vertical-align: middle;\n",
       "    }\n",
       "\n",
       "    .dataframe tbody tr th {\n",
       "        vertical-align: top;\n",
       "    }\n",
       "\n",
       "    .dataframe thead th {\n",
       "        text-align: right;\n",
       "    }\n",
       "</style>\n",
       "<table border=\"1\" class=\"dataframe\">\n",
       "  <thead>\n",
       "    <tr style=\"text-align: right;\">\n",
       "      <th></th>\n",
       "      <th>item</th>\n",
       "      <th>variety</th>\n",
       "      <th>year-month</th>\n",
       "      <th>avg_price</th>\n",
       "    </tr>\n",
       "  </thead>\n",
       "  <tbody>\n",
       "    <tr>\n",
       "      <th>0</th>\n",
       "      <td>alstromeria</td>\n",
       "      <td>indoor</td>\n",
       "      <td>2017-11</td>\n",
       "      <td>0.2700</td>\n",
       "    </tr>\n",
       "    <tr>\n",
       "      <th>1</th>\n",
       "      <td>alstromeria</td>\n",
       "      <td>indoor</td>\n",
       "      <td>2017-12</td>\n",
       "      <td>0.2800</td>\n",
       "    </tr>\n",
       "    <tr>\n",
       "      <th>2</th>\n",
       "      <td>alstromeria</td>\n",
       "      <td>indoor</td>\n",
       "      <td>2018-1</td>\n",
       "      <td>0.3100</td>\n",
       "    </tr>\n",
       "    <tr>\n",
       "      <th>3</th>\n",
       "      <td>alstromeria</td>\n",
       "      <td>indoor</td>\n",
       "      <td>2018-10</td>\n",
       "      <td>0.2350</td>\n",
       "    </tr>\n",
       "    <tr>\n",
       "      <th>4</th>\n",
       "      <td>alstromeria</td>\n",
       "      <td>indoor</td>\n",
       "      <td>2018-11</td>\n",
       "      <td>0.2580</td>\n",
       "    </tr>\n",
       "    <tr>\n",
       "      <th>...</th>\n",
       "      <td>...</td>\n",
       "      <td>...</td>\n",
       "      <td>...</td>\n",
       "      <td>...</td>\n",
       "    </tr>\n",
       "    <tr>\n",
       "      <th>2580</th>\n",
       "      <td>watercress</td>\n",
       "      <td>pillow_packs</td>\n",
       "      <td>2019-4</td>\n",
       "      <td>9.4750</td>\n",
       "    </tr>\n",
       "    <tr>\n",
       "      <th>2581</th>\n",
       "      <td>watercress</td>\n",
       "      <td>pillow_packs</td>\n",
       "      <td>2019-5</td>\n",
       "      <td>9.5000</td>\n",
       "    </tr>\n",
       "    <tr>\n",
       "      <th>2582</th>\n",
       "      <td>watercress</td>\n",
       "      <td>pillow_packs</td>\n",
       "      <td>2019-6</td>\n",
       "      <td>9.4900</td>\n",
       "    </tr>\n",
       "    <tr>\n",
       "      <th>2583</th>\n",
       "      <td>watercress</td>\n",
       "      <td>pillow_packs</td>\n",
       "      <td>2019-7</td>\n",
       "      <td>9.4975</td>\n",
       "    </tr>\n",
       "    <tr>\n",
       "      <th>2584</th>\n",
       "      <td>watercress</td>\n",
       "      <td>pillow_packs</td>\n",
       "      <td>2019-8</td>\n",
       "      <td>9.9640</td>\n",
       "    </tr>\n",
       "  </tbody>\n",
       "</table>\n",
       "<p>2585 rows × 4 columns</p>\n",
       "</div>"
      ],
      "text/plain": [
       "             item       variety year-month  avg_price\n",
       "0     alstromeria        indoor    2017-11     0.2700\n",
       "1     alstromeria        indoor    2017-12     0.2800\n",
       "2     alstromeria        indoor     2018-1     0.3100\n",
       "3     alstromeria        indoor    2018-10     0.2350\n",
       "4     alstromeria        indoor    2018-11     0.2580\n",
       "...           ...           ...        ...        ...\n",
       "2580   watercress  pillow_packs     2019-4     9.4750\n",
       "2581   watercress  pillow_packs     2019-5     9.5000\n",
       "2582   watercress  pillow_packs     2019-6     9.4900\n",
       "2583   watercress  pillow_packs     2019-7     9.4975\n",
       "2584   watercress  pillow_packs     2019-8     9.9640\n",
       "\n",
       "[2585 rows x 4 columns]"
      ]
     },
     "execution_count": 250,
     "metadata": {},
     "output_type": "execute_result"
    }
   ],
   "source": [
    "ej5"
   ]
  },
  {
   "cell_type": "markdown",
   "id": "00f6fd8d-62c2-4838-910e-c4f9a7cf93f3",
   "metadata": {},
   "source": [
    "### Ejercicio seis: muestre por category,item,variety que tanto % ha aumentado su precio\n",
    "\n",
    "Ejemplo: si para las manzanas gala el primer precio que se registro fue 2.00 y el ultimo precio que se registro es 4.00 este aumento un 100%"
   ]
  },
  {
   "cell_type": "code",
   "execution_count": 36,
   "id": "b6d2eff5-6029-4136-866d-2fa7afb24c4b",
   "metadata": {},
   "outputs": [
    {
     "data": {
      "text/html": [
       "<div>\n",
       "<style scoped>\n",
       "    .dataframe tbody tr th:only-of-type {\n",
       "        vertical-align: middle;\n",
       "    }\n",
       "\n",
       "    .dataframe tbody tr th {\n",
       "        vertical-align: top;\n",
       "    }\n",
       "\n",
       "    .dataframe thead th {\n",
       "        text-align: right;\n",
       "    }\n",
       "</style>\n",
       "<table border=\"1\" class=\"dataframe\">\n",
       "  <thead>\n",
       "    <tr style=\"text-align: right;\">\n",
       "      <th></th>\n",
       "      <th>category</th>\n",
       "      <th>item</th>\n",
       "      <th>variety</th>\n",
       "      <th>percentage-change-between-first-and-last-price</th>\n",
       "    </tr>\n",
       "  </thead>\n",
       "  <tbody>\n",
       "    <tr>\n",
       "      <th>0</th>\n",
       "      <td>fruta</td>\n",
       "      <td>Manzana</td>\n",
       "      <td>Gala</td>\n",
       "      <td>200</td>\n",
       "    </tr>\n",
       "    <tr>\n",
       "      <th>1</th>\n",
       "      <td>fruta</td>\n",
       "      <td>Manzana</td>\n",
       "      <td>egremont_russet</td>\n",
       "      <td>150</td>\n",
       "    </tr>\n",
       "  </tbody>\n",
       "</table>\n",
       "</div>"
      ],
      "text/plain": [
       "  category     item          variety  \\\n",
       "0    fruta  Manzana             Gala   \n",
       "1    fruta  Manzana  egremont_russet   \n",
       "\n",
       "   percentage-change-between-first-and-last-price  \n",
       "0                                             200  \n",
       "1                                             150  "
      ]
     },
     "execution_count": 36,
     "metadata": {},
     "output_type": "execute_result"
    }
   ],
   "source": [
    "pd.DataFrame({\n",
    "    \"category\": [\"fruta\",\"fruta\"]\n",
    "    ,\"item\" : ['Manzana','Manzana']\n",
    "    , \"variety\" : ['Gala','egremont_russet']\n",
    "    , \"percentage-change-between-first-and-last-price\" : [200,150]       \n",
    "})"
   ]
  },
  {
   "cell_type": "code",
   "execution_count": 346,
   "id": "10d3316e-454e-44d1-a200-6507fd02843d",
   "metadata": {},
   "outputs": [],
   "source": [
    "ej6 = vdf.loc[ : ,[\"category\",\"item\",\"variety\",\"price\"]]"
   ]
  },
  {
   "cell_type": "code",
   "execution_count": 347,
   "id": "0a90637a-c194-4db6-9a44-35c8f4c577ff",
   "metadata": {},
   "outputs": [],
   "source": [
    "lastv = ej6.sort_values([\"category\",\"item\",\"variety\"] , ascending = False )\n",
    "lastv[\"rank\"] = lastv.groupby([\"category\",\"item\",\"variety\"])[\"price\"].rank( method = 'first' , ascending = False )\n",
    "lastv = lastv.loc[ lastv[\"rank\"] == 1.0 , : ].reset_index(drop=True)"
   ]
  },
  {
   "cell_type": "markdown",
   "id": "27476799-e41c-4b1a-9f40-72ddf35f8f44",
   "metadata": {},
   "source": [
    "Traemos el último valor para cada uno de los registros"
   ]
  },
  {
   "cell_type": "code",
   "execution_count": 348,
   "id": "fc2a0253-1f53-4f3a-9fd7-a874d20978ca",
   "metadata": {},
   "outputs": [],
   "source": [
    "firstv = ej6.sort_values([\"category\",\"item\",\"variety\"] , ascending = True )\n",
    "firstv[\"rank\"] = firstv.groupby([\"category\",\"item\",\"variety\"])[\"price\"].rank( method = 'first' , ascending = True )\n",
    "firstv = firstv.loc[ firstv[\"rank\"] == 1.0 , : ].sort_values([\"category\",\"item\",\"variety\"] , ascending = False ).reset_index(drop=True)"
   ]
  },
  {
   "cell_type": "markdown",
   "id": "74556653-3a07-4689-9f67-bb39e6853078",
   "metadata": {},
   "source": [
    "Traemos el primer valor para cada uno de los registros"
   ]
  },
  {
   "cell_type": "code",
   "execution_count": 349,
   "id": "7b0253cd-2954-4f56-a087-4a77a7533e3e",
   "metadata": {},
   "outputs": [],
   "source": [
    "lastv['first_price'] = firstv['price']"
   ]
  },
  {
   "cell_type": "code",
   "execution_count": 350,
   "id": "a820397b-9cac-4e03-8fba-b05c9835e644",
   "metadata": {},
   "outputs": [],
   "source": [
    "lastv['percentage-change-between-first-and-last-price'] = lastv['price'] - lastv['first_price']"
   ]
  },
  {
   "cell_type": "code",
   "execution_count": 352,
   "id": "902b3b0a-8b37-4cfd-8c08-fadbb74c68a2",
   "metadata": {},
   "outputs": [],
   "source": [
    "lastv['percentage-change-between-first-and-last-price'] = round((lastv['percentage-change-between-first-and-last-price'] / lastv['first_price'])*100,2)"
   ]
  },
  {
   "cell_type": "markdown",
   "id": "edfc2c4f-cb62-46f5-a8c2-ce5e9900e496",
   "metadata": {},
   "source": [
    "Ejecutamos la fórmula para saber el porcentajde de aumento"
   ]
  },
  {
   "cell_type": "code",
   "execution_count": 353,
   "id": "a516885c-dd73-4e8a-b309-f990959ed648",
   "metadata": {},
   "outputs": [],
   "source": [
    "porcentaje = lastv.loc[ : ,[\"category\",\"item\",\"variety\",\"percentage-change-between-first-and-last-price\"]]"
   ]
  },
  {
   "cell_type": "code",
   "execution_count": 354,
   "id": "de9272b2-43eb-4980-a8a1-745b128f999e",
   "metadata": {},
   "outputs": [
    {
     "data": {
      "text/html": [
       "<div>\n",
       "<style scoped>\n",
       "    .dataframe tbody tr th:only-of-type {\n",
       "        vertical-align: middle;\n",
       "    }\n",
       "\n",
       "    .dataframe tbody tr th {\n",
       "        vertical-align: top;\n",
       "    }\n",
       "\n",
       "    .dataframe thead th {\n",
       "        text-align: right;\n",
       "    }\n",
       "</style>\n",
       "<table border=\"1\" class=\"dataframe\">\n",
       "  <thead>\n",
       "    <tr style=\"text-align: right;\">\n",
       "      <th></th>\n",
       "      <th>category</th>\n",
       "      <th>item</th>\n",
       "      <th>variety</th>\n",
       "      <th>percentage-change-between-first-and-last-price</th>\n",
       "    </tr>\n",
       "  </thead>\n",
       "  <tbody>\n",
       "    <tr>\n",
       "      <th>0</th>\n",
       "      <td>vegetable</td>\n",
       "      <td>watercress</td>\n",
       "      <td>pillow_packs</td>\n",
       "      <td>93.59</td>\n",
       "    </tr>\n",
       "    <tr>\n",
       "      <th>1</th>\n",
       "      <td>vegetable</td>\n",
       "      <td>turnip</td>\n",
       "      <td>turnip</td>\n",
       "      <td>281.82</td>\n",
       "    </tr>\n",
       "    <tr>\n",
       "      <th>2</th>\n",
       "      <td>vegetable</td>\n",
       "      <td>tomatoes</td>\n",
       "      <td>vine</td>\n",
       "      <td>526.76</td>\n",
       "    </tr>\n",
       "    <tr>\n",
       "      <th>3</th>\n",
       "      <td>vegetable</td>\n",
       "      <td>tomatoes</td>\n",
       "      <td>round</td>\n",
       "      <td>271.11</td>\n",
       "    </tr>\n",
       "    <tr>\n",
       "      <th>4</th>\n",
       "      <td>vegetable</td>\n",
       "      <td>tomatoes</td>\n",
       "      <td>plum</td>\n",
       "      <td>718.18</td>\n",
       "    </tr>\n",
       "    <tr>\n",
       "      <th>...</th>\n",
       "      <td>...</td>\n",
       "      <td>...</td>\n",
       "      <td>...</td>\n",
       "      <td>...</td>\n",
       "    </tr>\n",
       "    <tr>\n",
       "      <th>80</th>\n",
       "      <td>cut_flowers</td>\n",
       "      <td>narcissus</td>\n",
       "      <td>indoor</td>\n",
       "      <td>125.00</td>\n",
       "    </tr>\n",
       "    <tr>\n",
       "      <th>81</th>\n",
       "      <td>cut_flowers</td>\n",
       "      <td>lillies</td>\n",
       "      <td>oriental</td>\n",
       "      <td>98.00</td>\n",
       "    </tr>\n",
       "    <tr>\n",
       "      <th>82</th>\n",
       "      <td>cut_flowers</td>\n",
       "      <td>gladioli</td>\n",
       "      <td>all_varieties</td>\n",
       "      <td>230.00</td>\n",
       "    </tr>\n",
       "    <tr>\n",
       "      <th>83</th>\n",
       "      <td>cut_flowers</td>\n",
       "      <td>chrysanthemum</td>\n",
       "      <td>indoor_spray</td>\n",
       "      <td>47.06</td>\n",
       "    </tr>\n",
       "    <tr>\n",
       "      <th>84</th>\n",
       "      <td>cut_flowers</td>\n",
       "      <td>alstromeria</td>\n",
       "      <td>indoor</td>\n",
       "      <td>47.83</td>\n",
       "    </tr>\n",
       "  </tbody>\n",
       "</table>\n",
       "<p>85 rows × 4 columns</p>\n",
       "</div>"
      ],
      "text/plain": [
       "       category           item        variety  \\\n",
       "0     vegetable     watercress   pillow_packs   \n",
       "1     vegetable         turnip         turnip   \n",
       "2     vegetable       tomatoes           vine   \n",
       "3     vegetable       tomatoes          round   \n",
       "4     vegetable       tomatoes           plum   \n",
       "..          ...            ...            ...   \n",
       "80  cut_flowers      narcissus         indoor   \n",
       "81  cut_flowers        lillies       oriental   \n",
       "82  cut_flowers       gladioli  all_varieties   \n",
       "83  cut_flowers  chrysanthemum   indoor_spray   \n",
       "84  cut_flowers    alstromeria         indoor   \n",
       "\n",
       "    percentage-change-between-first-and-last-price  \n",
       "0                                            93.59  \n",
       "1                                           281.82  \n",
       "2                                           526.76  \n",
       "3                                           271.11  \n",
       "4                                           718.18  \n",
       "..                                             ...  \n",
       "80                                          125.00  \n",
       "81                                           98.00  \n",
       "82                                          230.00  \n",
       "83                                           47.06  \n",
       "84                                           47.83  \n",
       "\n",
       "[85 rows x 4 columns]"
      ]
     },
     "execution_count": 354,
     "metadata": {},
     "output_type": "execute_result"
    }
   ],
   "source": [
    "porcentaje"
   ]
  },
  {
   "cell_type": "markdown",
   "id": "0b507b1e-35d8-4a2f-bfb2-2fa034d453a4",
   "metadata": {},
   "source": [
    "### Ejercicio siete: Segun el ejercicio seis por category cual es el item,variety con mayor aumento de crecimiento \n",
    "\n",
    "Segun el ejemplo dummy que se utilizo en el ejercicio seis para la category fruta se mostraria la manzana gala unicamente"
   ]
  },
  {
   "cell_type": "code",
   "execution_count": 355,
   "id": "ed43c714-e413-41b5-b4c7-ff5016938c51",
   "metadata": {},
   "outputs": [],
   "source": [
    "ej7 = porcentaje.loc[ : ,[\"category\",\"item\",\"variety\",\"percentage-change-between-first-and-last-price\"]]"
   ]
  },
  {
   "cell_type": "code",
   "execution_count": 357,
   "id": "d79cd0c9-3437-4a0e-8fdc-1c58f99050bc",
   "metadata": {},
   "outputs": [],
   "source": [
    "ej7 = ej7.groupby([\"category\",\"item\",\"variety\"],as_index=False).agg({'percentage-change-between-first-and-last-price' : ['max']})"
   ]
  },
  {
   "cell_type": "code",
   "execution_count": 363,
   "id": "8f3cab1b-47d4-4edf-b03b-004ff7e4b1e2",
   "metadata": {},
   "outputs": [],
   "source": [
    "ej7.columns = ej7.columns.droplevel(1)"
   ]
  },
  {
   "cell_type": "code",
   "execution_count": 370,
   "id": "1b57d0c7-3478-4677-b9b9-02a6be51fbbc",
   "metadata": {},
   "outputs": [],
   "source": [
    "by_percentage = ej7.sort_values('percentage-change-between-first-and-last-price',ascending=False)"
   ]
  },
  {
   "cell_type": "code",
   "execution_count": 373,
   "id": "09bb9db6-3d34-42d9-b974-d2328a69d94c",
   "metadata": {},
   "outputs": [],
   "source": [
    "by_percentage.columns = ['category', 'item', 'variety',\n",
    "       'calor_por_item_cat_var_con_mayor_aumento_de_crecimiento']"
   ]
  },
  {
   "cell_type": "code",
   "execution_count": 374,
   "id": "4b610c41-31e3-4e75-9f86-4a5b2dd4aba6",
   "metadata": {},
   "outputs": [
    {
     "data": {
      "text/html": [
       "<div>\n",
       "<style scoped>\n",
       "    .dataframe tbody tr th:only-of-type {\n",
       "        vertical-align: middle;\n",
       "    }\n",
       "\n",
       "    .dataframe tbody tr th {\n",
       "        vertical-align: top;\n",
       "    }\n",
       "\n",
       "    .dataframe thead th {\n",
       "        text-align: right;\n",
       "    }\n",
       "</style>\n",
       "<table border=\"1\" class=\"dataframe\">\n",
       "  <thead>\n",
       "    <tr style=\"text-align: right;\">\n",
       "      <th></th>\n",
       "      <th>category</th>\n",
       "      <th>item</th>\n",
       "      <th>variety</th>\n",
       "      <th>calor_por_item_cat_var_con_mayor_aumento_de_crecimiento</th>\n",
       "    </tr>\n",
       "  </thead>\n",
       "  <tbody>\n",
       "    <tr>\n",
       "      <th>30</th>\n",
       "      <td>fruit</td>\n",
       "      <td>strawberries</td>\n",
       "      <td>strawberries</td>\n",
       "      <td>974.00</td>\n",
       "    </tr>\n",
       "    <tr>\n",
       "      <th>29</th>\n",
       "      <td>fruit</td>\n",
       "      <td>raspberries</td>\n",
       "      <td>raspberries</td>\n",
       "      <td>831.22</td>\n",
       "    </tr>\n",
       "    <tr>\n",
       "      <th>79</th>\n",
       "      <td>vegetable</td>\n",
       "      <td>tomatoes</td>\n",
       "      <td>cherry</td>\n",
       "      <td>825.00</td>\n",
       "    </tr>\n",
       "    <tr>\n",
       "      <th>80</th>\n",
       "      <td>vegetable</td>\n",
       "      <td>tomatoes</td>\n",
       "      <td>plum</td>\n",
       "      <td>718.18</td>\n",
       "    </tr>\n",
       "    <tr>\n",
       "      <th>50</th>\n",
       "      <td>vegetable</td>\n",
       "      <td>capsicum</td>\n",
       "      <td>yelloworange</td>\n",
       "      <td>700.00</td>\n",
       "    </tr>\n",
       "    <tr>\n",
       "      <th>...</th>\n",
       "      <td>...</td>\n",
       "      <td>...</td>\n",
       "      <td>...</td>\n",
       "      <td>...</td>\n",
       "    </tr>\n",
       "    <tr>\n",
       "      <th>32</th>\n",
       "      <td>pot_plants</td>\n",
       "      <td>geranium</td>\n",
       "      <td>13_cm</td>\n",
       "      <td>60.00</td>\n",
       "    </tr>\n",
       "    <tr>\n",
       "      <th>0</th>\n",
       "      <td>cut_flowers</td>\n",
       "      <td>alstromeria</td>\n",
       "      <td>indoor</td>\n",
       "      <td>47.83</td>\n",
       "    </tr>\n",
       "    <tr>\n",
       "      <th>1</th>\n",
       "      <td>cut_flowers</td>\n",
       "      <td>chrysanthemum</td>\n",
       "      <td>indoor_spray</td>\n",
       "      <td>47.06</td>\n",
       "    </tr>\n",
       "    <tr>\n",
       "      <th>8</th>\n",
       "      <td>cut_flowers</td>\n",
       "      <td>sweet_williams</td>\n",
       "      <td>sweet_williams</td>\n",
       "      <td>14.29</td>\n",
       "    </tr>\n",
       "    <tr>\n",
       "      <th>34</th>\n",
       "      <td>pot_plants</td>\n",
       "      <td>poinsettia</td>\n",
       "      <td>13_cm</td>\n",
       "      <td>13.30</td>\n",
       "    </tr>\n",
       "  </tbody>\n",
       "</table>\n",
       "<p>85 rows × 4 columns</p>\n",
       "</div>"
      ],
      "text/plain": [
       "       category            item         variety  \\\n",
       "30        fruit    strawberries    strawberries   \n",
       "29        fruit     raspberries     raspberries   \n",
       "79    vegetable        tomatoes          cherry   \n",
       "80    vegetable        tomatoes            plum   \n",
       "50    vegetable        capsicum    yelloworange   \n",
       "..          ...             ...             ...   \n",
       "32   pot_plants        geranium           13_cm   \n",
       "0   cut_flowers     alstromeria          indoor   \n",
       "1   cut_flowers   chrysanthemum    indoor_spray   \n",
       "8   cut_flowers  sweet_williams  sweet_williams   \n",
       "34   pot_plants      poinsettia           13_cm   \n",
       "\n",
       "    calor_por_item_cat_var_con_mayor_aumento_de_crecimiento  \n",
       "30                                             974.00        \n",
       "29                                             831.22        \n",
       "79                                             825.00        \n",
       "80                                             718.18        \n",
       "50                                             700.00        \n",
       "..                                                ...        \n",
       "32                                              60.00        \n",
       "0                                               47.83        \n",
       "1                                               47.06        \n",
       "8                                               14.29        \n",
       "34                                              13.30        \n",
       "\n",
       "[85 rows x 4 columns]"
      ]
     },
     "execution_count": 374,
     "metadata": {},
     "output_type": "execute_result"
    }
   ],
   "source": [
    "by_percentage"
   ]
  },
  {
   "cell_type": "code",
   "execution_count": null,
   "id": "73c4b166-2818-4e7e-ba58-096b451e9987",
   "metadata": {},
   "outputs": [],
   "source": []
  }
 ],
 "metadata": {
  "kernelspec": {
   "display_name": "Python 3 (ipykernel)",
   "language": "python",
   "name": "python3"
  },
  "language_info": {
   "codemirror_mode": {
    "name": "ipython",
    "version": 3
   },
   "file_extension": ".py",
   "mimetype": "text/x-python",
   "name": "python",
   "nbconvert_exporter": "python",
   "pygments_lexer": "ipython3",
   "version": "3.9.7"
  }
 },
 "nbformat": 4,
 "nbformat_minor": 5
}
